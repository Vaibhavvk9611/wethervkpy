{
  "nbformat": 4,
  "nbformat_minor": 0,
  "metadata": {
    "colab": {
      "name": "Whethervk.ipynb",
      "provenance": [],
      "collapsed_sections": []
    },
    "kernelspec": {
      "name": "python3",
      "display_name": "Python 3"
    },
    "language_info": {
      "name": "python"
    }
  },
  "cells": [
    {
      "cell_type": "code",
      "metadata": {
        "colab": {
          "base_uri": "https://localhost:8080/"
        },
        "id": "7oUTOWNJfEQE",
        "outputId": "1f785b48-4716-47cc-fbce-e4c942abd1be"
      },
      "source": [
        " \n",
        "import json\n",
        "# import os\n",
        "from datetime import datetime\n",
        "import requests\n",
        " \n",
        "api_key = '1bca96907d5fa5f811c552b473108348'\n",
        "location = input(\"Enter the city name: \")\n",
        " \n",
        "complete_api_link = \"https://api.openweathermap.org/data/2.5/weather?q=\" + location + \"&appid=\" + api_key\n",
        "api_link = requests.get(complete_api_link)\n",
        "api_data = api_link.json()\n",
        " \n",
        "# create variables to store and display data\n",
        "temp_city = ((api_data['main']['temp']) - 273.15)\n",
        "weather_desc = api_data['weather'][0]['description']\n",
        "hmdt = api_data['main']['humidity']\n",
        "wind_spd = api_data['wind']['speed']\n",
        "date_time = datetime.now().strftime(\"%d %b %Y | %I:%M:%S %p\")\n",
        " \n",
        "print(\"-------------------------------------------------------------\")\n",
        "print(\"Weather Stats for - {}  || {}\".format(location.upper(), date_time))\n",
        "print(\"-------------------------------------------------------------\")\n",
        " \n",
        "print(\"Current temperature is: {:.2f} deg C\".format(temp_city))\n",
        "print(\"Current weather desc  :\", weather_desc)\n",
        "print(\"Current Humidity      :\", hmdt, '%')\n",
        " \n",
        "text_file = open(\"weather.txt\", \"a\")\n",
        "text_file.write(\"-------------------------------------------------------------\\n\")\n",
        "text_file.write(\"Weather Stats for - {}  || {} \\n\".format(location.upper(), date_time))\n",
        "text_file.write(\"-------------------------------------------------------------\\n\")\n",
        "text_file.write(\"Current temperature is: {:.2f} deg C \\n\".format(temp_city))\n",
        "text_file.write(\"Current weather desc  : {} \\n\".format(weather_desc))\n",
        "text_file.write(\"Current Humidity  :   {} % \\n\".format(hmdt))\n",
        "text_file.close()"
      ],
      "execution_count": null,
      "outputs": [
        {
          "output_type": "stream",
          "text": [
            "Enter the city name: Hubli\n",
            "-------------------------------------------------------------\n",
            "Weather Stats for - HUBLI  || 23 Jun 2021 | 03:31:02 PM\n",
            "-------------------------------------------------------------\n",
            "Current temperature is: 24.02 deg C\n",
            "Current weather desc  : scattered clouds\n",
            "Current Humidity      : 83 %\n"
          ],
          "name": "stdout"
        }
      ]
    }
  ]
}